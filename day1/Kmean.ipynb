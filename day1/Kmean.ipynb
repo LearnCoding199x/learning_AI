{
 "cells": [
  {
   "cell_type": "code",
   "execution_count": 10,
   "metadata": {},
   "outputs": [],
   "source": [
    "import numpy as np\n",
    "import math\n",
    "from scipy.spatial.distance import cdist\n",
    "from sklearn.cluster import KMeans"
   ]
  },
  {
   "cell_type": "code",
   "execution_count": 11,
   "metadata": {},
   "outputs": [],
   "source": [
    "def calculate_distance_between_two_points(x,center):\n",
    "    return math.sqrt(math.pow((x[0]-center[0]),2)+math.pow((x[1]-center[1]),2))\n",
    "    "
   ]
  },
  {
   "cell_type": "code",
   "execution_count": 12,
   "metadata": {},
   "outputs": [],
   "source": [
    "def generate_centers(k,num_points):\n",
    "    return np.reshape(np.random.choice(2*num_points, 2*k, replace=False)/num_points,(k,2)) #range 20"
   ]
  },
  {
   "cell_type": "code",
   "execution_count": 13,
   "metadata": {},
   "outputs": [],
   "source": [
    "def generate_points_and_label(num_points):\n",
    "    return np.reshape(np.random.choice(2*num_points, 2*num_points, replace=False)/num_points,(num_points,2)),np.zeros(num_points)"
   ]
  },
  {
   "cell_type": "code",
   "execution_count": 19,
   "metadata": {},
   "outputs": [],
   "source": [
    "def assign_cluster(X,Y,centers):\n",
    "    for i in range(X.shape[0]):\n",
    "        temp= []\n",
    "        for j in range(centers.shape[0]):\n",
    "            temp.append(calculate_distance_between_two_points(centers[j],X[i]))\n",
    "            #temp.append(cdist(np.reshape(centers[j],(1,2)),np.reshape(X[i],(1,2)))) #use cdist \n",
    "        temp = np.asarray(temp)\n",
    "        Y[i] = np.argmin(temp,axis=0)\n",
    "        "
   ]
  },
  {
   "cell_type": "code",
   "execution_count": 20,
   "metadata": {},
   "outputs": [],
   "source": [
    "def assign_centers(X,Y,k):\n",
    "    new_centers = np.zeros((k,2))\n",
    "    count = np.zeros(k)\n",
    "    for i in range(Y.shape[0]):\n",
    "        new_centers[int(Y[i])][0]+=X[i][0]\n",
    "        new_centers[int(Y[i])][1]+=X[i][1]\n",
    "        count[int(Y[i])]+=1\n",
    "    for i in range(k):\n",
    "        if count[i] != 0:\n",
    "            new_centers[i][0]/=count[i]\n",
    "            new_centers[i][1]/=count[i]\n",
    "        else:\n",
    "            new_centers[i] = saved_centers[-1][i]\n",
    "    return new_centers"
   ]
  },
  {
   "cell_type": "code",
   "execution_count": 21,
   "metadata": {},
   "outputs": [],
   "source": [
    "def has_converged(centers, new_centers):\n",
    "    return (set([tuple(a) for a in centers]) == \n",
    "        set([tuple(a) for a in new_centers]))"
   ]
  },
  {
   "cell_type": "code",
   "execution_count": 22,
   "metadata": {},
   "outputs": [],
   "source": [
    "def kmeans(k,num_points):\n",
    "    count = 0\n",
    "    while True:\n",
    "        count+=1\n",
    "        assign_cluster(X,Y,saved_centers[-1])\n",
    "        new_centers = assign_centers(X,Y,k)\n",
    "        if(has_converged(saved_centers[-1],new_centers)):\n",
    "            print(\"DONE\")\n",
    "            print(\"Iterator {}\".format(count))\n",
    "            print(new_centers)\n",
    "            break\n",
    "        saved_centers.append(new_centers)"
   ]
  },
  {
   "cell_type": "code",
   "execution_count": 23,
   "metadata": {},
   "outputs": [
    {
     "name": "stdout",
     "output_type": "stream",
     "text": [
      "DONE\n",
      "Iterator 21\n",
      "[[0.51016352 1.46738365]\n",
      " [1.49775174 1.67970711]\n",
      " [0.48465476 0.45313889]\n",
      " [1.46575373 0.99699005]\n",
      " [1.51613986 0.33981585]]\n",
      "Centers found by scikit-learn:\n",
      "[[1.52074074 0.33202867]\n",
      " [0.51344265 1.4725448 ]\n",
      " [1.51696175 1.66578689]\n",
      " [1.44615613 0.97784139]\n",
      " [0.48236111 0.45407937]]\n"
     ]
    }
   ],
   "source": [
    "k = 5\n",
    "num_points = 1500\n",
    "centers = generate_centers(k,num_points)\n",
    "X,Y = generate_points_and_label(num_points)\n",
    "Y=np.reshape(Y,(num_points,1))\n",
    "saved_centers = [centers]\n",
    "kmeans(k,num_points)\n",
    "\n",
    "#test with lib\n",
    "kmeans = KMeans(n_clusters=k, random_state=0).fit(X)\n",
    "print('Centers found by scikit-learn:')\n",
    "print(kmeans.cluster_centers_)\n",
    "pred_label = kmeans.predict(X)\n",
    "#kmeans_display(X, pred_label)"
   ]
  },
  {
   "cell_type": "code",
   "execution_count": null,
   "metadata": {},
   "outputs": [],
   "source": []
  }
 ],
 "metadata": {
  "kernelspec": {
   "display_name": "Python 3",
   "language": "python",
   "name": "python3"
  },
  "language_info": {
   "codemirror_mode": {
    "name": "ipython",
    "version": 3
   },
   "file_extension": ".py",
   "mimetype": "text/x-python",
   "name": "python",
   "nbconvert_exporter": "python",
   "pygments_lexer": "ipython3",
   "version": "3.6.5"
  }
 },
 "nbformat": 4,
 "nbformat_minor": 2
}
