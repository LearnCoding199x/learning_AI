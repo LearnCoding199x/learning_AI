{
 "cells": [
  {
   "cell_type": "code",
   "execution_count": 1,
   "metadata": {},
   "outputs": [
    {
     "name": "stderr",
     "output_type": "stream",
     "text": [
      "/home/anz/anaconda3/envs/python3/lib/python3.6/site-packages/h5py/__init__.py:36: FutureWarning: Conversion of the second argument of issubdtype from `float` to `np.floating` is deprecated. In future, it will be treated as `np.float64 == np.dtype(float).type`.\n",
      "  from ._conv import register_converters as _register_converters\n"
     ]
    }
   ],
   "source": [
    "import tensorflow as tf\n",
    "import numpy as np\n",
    "import math\n",
    "import matplotlib.pyplot as plt"
   ]
  },
  {
   "cell_type": "code",
   "execution_count": 2,
   "metadata": {},
   "outputs": [],
   "source": [
    "def gen(num_train=1000,num_feature=5):\n",
    "    gen_graph =  tf.Graph()\n",
    "    with gen_graph.as_default():\n",
    "        w = tf.random_normal([num_feature,1])\n",
    "        b = tf.Variable(np.random.rand())\n",
    "        x = tf.random_normal(shape=[num_train,num_feature])\n",
    "        y = tf.matmul(x,w)+b\n",
    "    with tf.Session(graph=gen_graph) as sess:\n",
    "        sess.run(tf.global_variables_initializer())\n",
    "        x,y,w,b =sess.run([x,y,w,b])\n",
    "        return x,y,w,b"
   ]
  },
  {
   "cell_type": "code",
   "execution_count": 3,
   "metadata": {},
   "outputs": [],
   "source": [
    "# X : matrix mxn\n",
    "# w : matrix nx1\n",
    "# y : matrix mx1\n",
    "# b : scalar\n",
    "def linreg(x,y,batch_size=64,lr=0.01,epoches=1000):\n",
    "    num_train = x.shape[0]\n",
    "    num_feature = x.shape[1]\n",
    "    losses = []\n",
    "    w = tf.Variable(tf.zeros([num_feature,1]))\n",
    "    b = tf.Variable(np.random.rand())\n",
    "    x_t = tf.placeholder(tf.float32,shape=[None,num_feature])\n",
    "    y_true = tf.placeholder(tf.float32,shape=[None,1])\n",
    "    y_t = tf.matmul(x_t,w)+b\n",
    "    loss = 0.5 * tf.reduce_mean(tf.square(y_t-y_true),0)\n",
    "    update_w = w.assign(tf.subtract(w,tf.matmul(tf.transpose(x_t),(y_t-y_true))*(1.0/num_train)*lr))\n",
    "    update_b = b.assign(tf.subtract(b,tf.reduce_mean(y_t-y_true)*lr))\n",
    "    with tf.Session(graph=tf.get_default_graph()) as sess:\n",
    "        sess.run(tf.global_variables_initializer())\n",
    "        for epoch in range(epoches):\n",
    "            for i in range(math.floor(num_train/batch_size)):\n",
    "                _loss,_w,_b,_x,_u,_b=sess.run([loss,w,b,x_t,update_w,update_b],feed_dict={x_t : x[batch_size*i:batch_size*(i+1),],y_true : y[batch_size*i:batch_size*(i+1),]})\n",
    "            if epoch%50==0:\n",
    "                print()\n",
    "                print(\"Epoch {} : Loss {}\".format(epoch,_loss))\n",
    "            losses.append(_loss)\n",
    "    plt.plot(losses)\n",
    "    plt.show()\n",
    "    print('Prediction w ',_w)\n",
    "    print('Prediction b ',_b)\n",
    "        \n",
    "        "
   ]
  },
  {
   "cell_type": "code",
   "execution_count": 4,
   "metadata": {},
   "outputs": [
    {
     "name": "stdout",
     "output_type": "stream",
     "text": [
      "\n",
      "Epoch 0 : Loss [1.6268545]\n",
      "\n",
      "Epoch 50 : Loss [0.6450361]\n",
      "\n",
      "Epoch 100 : Loss [0.2745439]\n",
      "\n",
      "Epoch 150 : Loss [0.11754863]\n",
      "\n",
      "Epoch 200 : Loss [0.05057455]\n",
      "\n",
      "Epoch 250 : Loss [0.02184522]\n",
      "\n",
      "Epoch 300 : Loss [0.00946571]\n",
      "\n",
      "Epoch 350 : Loss [0.00411218]\n",
      "\n",
      "Epoch 400 : Loss [0.00179]\n",
      "\n",
      "Epoch 450 : Loss [0.00078046]\n",
      "\n",
      "Epoch 500 : Loss [0.0003407]\n",
      "\n",
      "Epoch 550 : Loss [0.00014888]\n",
      "\n",
      "Epoch 600 : Loss [6.510094e-05]\n",
      "\n",
      "Epoch 650 : Loss [2.848513e-05]\n",
      "\n",
      "Epoch 700 : Loss [1.2471392e-05]\n",
      "\n",
      "Epoch 750 : Loss [5.463006e-06]\n",
      "\n",
      "Epoch 800 : Loss [2.3933073e-06]\n",
      "\n",
      "Epoch 850 : Loss [1.0480626e-06]\n",
      "\n",
      "Epoch 900 : Loss [4.5924142e-07]\n",
      "\n",
      "Epoch 950 : Loss [2.0250886e-07]\n"
     ]
    },
    {
     "data": {
      "image/png": "[encoded data removed]",
      "text/plain": [
       "<Figure size 432x288 with 1 Axes>"
      ]
     },
     "metadata": {},
     "output_type": "display_data"
    },
    {
     "name": "stdout",
     "output_type": "stream",
     "text": [
      "Prediction w  [[-0.73399097]\n",
      " [-0.9218823 ]\n",
      " [-0.01641436]\n",
      " [-1.360905  ]\n",
      " [-0.60123837]]\n",
      "Prediction b  0.5704839\n",
      "Real w values  [[-0.7342744 ]\n",
      " [-0.9221166 ]\n",
      " [-0.01646185]\n",
      " [-1.3610532 ]\n",
      " [-0.6013871 ]]\n",
      "Real b values  0.57048875\n"
     ]
    }
   ],
   "source": [
    "x,y,w,b=gen()\n",
    "linreg(x,y)\n",
    "print('Real w values ',w)\n",
    "print('Real b values ',b)"
   ]
  },
  {
   "cell_type": "code",
   "execution_count": null,
   "metadata": {},
   "outputs": [],
   "source": []
  },
  {
   "cell_type": "code",
   "execution_count": null,
   "metadata": {},
   "outputs": [],
   "source": []
  }
 ],
 "metadata": {
  "kernelspec": {
   "display_name": "Python 3",
   "language": "python",
   "name": "python3"
  },
  "language_info": {
   "codemirror_mode": {
    "name": "ipython",
    "version": 3
   },
   "file_extension": ".py",
   "mimetype": "text/x-python",
   "name": "python",
   "nbconvert_exporter": "python",
   "pygments_lexer": "ipython3",
   "version": "3.6.5"
  }
 },
 "nbformat": 4,
 "nbformat_minor": 2
}
