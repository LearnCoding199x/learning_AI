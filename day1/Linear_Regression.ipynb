{
 "cells": [
  {
   "cell_type": "code",
   "execution_count": null,
   "metadata": {},
   "outputs": [],
   "source": [
    "import tensorflow as tf\n",
    "import numpy as np\n",
    "import matplotlib.pyplot as plt"
   ]
  },
  {
   "cell_type": "code",
   "execution_count": null,
   "metadata": {},
   "outputs": [],
   "source": [
    "def gen(num_train=1000,num_feature=5):\n",
    "    gen_graph =  tf.Graph()\n",
    "    with gen_graph.as_default():\n",
    "        w = tf.random_normal([num_feature,1])\n",
    "        b = tf.Variable(np.random.rand())\n",
    "        x = tf.random_normal(shape=[num_train,num_feature])\n",
    "        y = tf.matmul(x,w)+b\n",
    "    with tf.Session(graph=gen_graph) as sess:\n",
    "        sess.run(tf.global_variables_initializer())\n",
    "        x,y,w,b =sess.run([x,y,w,b])\n",
    "        return x,y,w,b"
   ]
  },
  {
   "cell_type": "code",
   "execution_count": null,
   "metadata": {},
   "outputs": [],
   "source": [
    "# X : matrix mxn\n",
    "# w : matrix nx1\n",
    "# y : matrix mx1\n",
    "# b : scalar\n",
    "def linreg(x,y,iterations=1000,lr=0.01):\n",
    "    num_train = x.shape[0]\n",
    "    num_feature = x.shape[1]\n",
    "    losses = []\n",
    "    w = tf.Variable(tf.zeros([num_feature,1]))\n",
    "    b = tf.Variable(np.random.rand())\n",
    "    x_t = tf.placeholder(tf.float32,shape=[None,num_feature])\n",
    "    y_true = tf.placeholder(tf.float32,shape=[None,1])\n",
    "    y_t = tf.matmul(x_t,w)+b\n",
    "    loss = 0.5 * tf.reduce_mean(tf.square(y_t-y_true),0)\n",
    "    update_w = w.assign(tf.subtract(w,tf.matmul(tf.transpose(x),(y_t-y_true))*(1.0/num_train)*lr))\n",
    "    update_b = b.assign(tf.subtract(b,tf.reduce_mean(y_t-y_true)*lr))\n",
    "    with tf.Session(graph=tf.get_default_graph()) as sess:\n",
    "        sess.run(tf.global_variables_initializer())\n",
    "        for i in range(iterations):\n",
    "            _loss,_w,_b,_x,_u,_b=sess.run([loss,w,b,x_t,update_w,update_b],feed_dict={x_t : x,y_true : y})\n",
    "            losses.append(_loss)\n",
    "            print(_loss)\n",
    "    plt.plot(losses)\n",
    "    plt.show()\n",
    "    print('Prediction w ',_w)\n",
    "    print('Prediction b ',_b)\n",
    "    \n",
    "        \n",
    "        "
   ]
  },
  {
   "cell_type": "code",
   "execution_count": null,
   "metadata": {},
   "outputs": [],
   "source": [
    "x,y,w,b=gen()\n",
    "linreg(x,y)\n",
    "print('Real w values ',w)\n",
    "print('Real b values ',b)"
   ]
  },
  {
   "cell_type": "code",
   "execution_count": null,
   "metadata": {},
   "outputs": [],
   "source": []
  },
  {
   "cell_type": "code",
   "execution_count": null,
   "metadata": {},
   "outputs": [],
   "source": []
  }
 ],
 "metadata": {
  "kernelspec": {
   "display_name": "Python 3",
   "language": "python",
   "name": "python3"
  },
  "language_info": {
   "codemirror_mode": {
    "name": "ipython",
    "version": 3
   },
   "file_extension": ".py",
   "mimetype": "text/x-python",
   "name": "python",
   "nbconvert_exporter": "python",
   "pygments_lexer": "ipython3",
   "version": "3.6.5"
  }
 },
 "nbformat": 4,
 "nbformat_minor": 2
}
