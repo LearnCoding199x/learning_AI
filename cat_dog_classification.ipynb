{
  "nbformat": 4,
  "nbformat_minor": 0,
  "metadata": {
    "colab": {
      "name": "cat_dog_classification",
      "version": "0.3.2",
      "provenance": [],
      "collapsed_sections": [],
      "include_colab_link": true
    },
    "kernelspec": {
      "name": "python3",
      "display_name": "Python 3"
    },
    "accelerator": "GPU"
  },
  "cells": [
    {
      "cell_type": "markdown",
      "metadata": {
        "id": "view-in-github",
        "colab_type": "text"
      },
      "source": [
        "<a href=\"https://colab.research.google.com/github/LearnCoding199x/learning_AI/blob/master/cat_dog_classification.ipynb\" target=\"_parent\"><img src=\"https://colab.research.google.com/assets/colab-badge.svg\" alt=\"Open In Colab\"/></a>"
      ]
    },
    {
      "cell_type": "code",
      "metadata": {
        "id": "P02MdGEU8FDk",
        "colab_type": "code",
        "colab": {}
      },
      "source": [
        "\n",
        "\n",
        "import tensorflow as tf\n",
        "import numpy as np\n",
        "import cv2"
      ],
      "execution_count": 0,
      "outputs": []
    },
    {
      "cell_type": "code",
      "metadata": {
        "id": "eXJIucLI8kGE",
        "colab_type": "code",
        "outputId": "570e3896-b89f-4d1d-df4c-6080cf11a75a",
        "colab": {
          "base_uri": "https://localhost:8080/",
          "height": 204
        }
      },
      "source": [
        "!wget --no-check-certificate \\\n",
        "    https://storage.googleapis.com/mledu-datasets/cats_and_dogs_filtered.zip \\\n",
        "    -O /tmp/cats_and_dogs_filtered.zip"
      ],
      "execution_count": 0,
      "outputs": [
        {
          "output_type": "stream",
          "text": [
            "--2019-06-08 15:04:00--  https://storage.googleapis.com/mledu-datasets/cats_and_dogs_filtered.zip\n",
            "Resolving storage.googleapis.com (storage.googleapis.com)... 172.217.212.128, 2607:f8b0:4001:c1c::80\n",
            "Connecting to storage.googleapis.com (storage.googleapis.com)|172.217.212.128|:443... connected.\n",
            "HTTP request sent, awaiting response... 200 OK\n",
            "Length: 68606236 (65M) [application/zip]\n",
            "Saving to: ‘/tmp/cats_and_dogs_filtered.zip’\n",
            "\n",
            "\r          /tmp/cats   0%[                    ]       0  --.-KB/s               \r         /tmp/cats_  58%[==========>         ]  38.20M   191MB/s               \r/tmp/cats_and_dogs_ 100%[===================>]  65.43M   238MB/s    in 0.3s    \n",
            "\n",
            "2019-06-08 15:04:01 (238 MB/s) - ‘/tmp/cats_and_dogs_filtered.zip’ saved [68606236/68606236]\n",
            "\n"
          ],
          "name": "stdout"
        }
      ]
    },
    {
      "cell_type": "code",
      "metadata": {
        "id": "hf3z5vtE8oNo",
        "colab_type": "code",
        "colab": {}
      },
      "source": [
        "import os\n",
        "import zipfile\n",
        "\n",
        "local_zip = '/tmp/cats_and_dogs_filtered.zip'\n",
        "zip_ref = zipfile.ZipFile(local_zip, 'r')\n",
        "zip_ref.extractall('/tmp')\n",
        "zip_ref.close()"
      ],
      "execution_count": 0,
      "outputs": []
    },
    {
      "cell_type": "code",
      "metadata": {
        "id": "J9FE0ylg8r3f",
        "colab_type": "code",
        "colab": {}
      },
      "source": [
        "base_dir = '/tmp/cats_and_dogs_filtered'\n",
        "train_dir = os.path.join(base_dir, 'train')\n",
        "validation_dir = os.path.join(base_dir, 'validation')\n",
        "\n",
        "# Directory with our training cat pictures\n",
        "train_cats_dir = os.path.join(train_dir, 'cats')\n",
        "\n",
        "# Directory with our training dog pictures\n",
        "train_dogs_dir = os.path.join(train_dir, 'dogs')\n",
        "\n",
        "# Directory with our validation cat pictures\n",
        "validation_cats_dir = os.path.join(validation_dir, 'cats')\n",
        "\n",
        "# Directory with our validation dog pictures\n",
        "validation_dogs_dir = os.path.join(validation_dir, 'dogs')"
      ],
      "execution_count": 0,
      "outputs": []
    },
    {
      "cell_type": "code",
      "metadata": {
        "id": "8EJLnozP8xBK",
        "colab_type": "code",
        "outputId": "6d878c49-653d-4b1b-9d46-a1cd8ddb8d55",
        "colab": {
          "base_uri": "https://localhost:8080/",
          "height": 51
        }
      },
      "source": [
        "list_train_cat = os.listdir(train_cats_dir)\n",
        "list_train_dog = os.listdir(train_dogs_dir)\n",
        "train_cat = []\n",
        "train_dog = []\n",
        "for i in list_train_cat:\n",
        "  file_name = os.path.join(train_cats_dir,i)\n",
        "  data = cv2.imread(file_name)\n",
        "  data = cv2.resize(data,(150,150))\n",
        "  data = data/255\n",
        "  train_cat.append(data)\n",
        "  \n",
        "for i in list_train_dog:\n",
        "  file_name = os.path.join(train_dogs_dir,i)\n",
        "  data = cv2.imread(file_name)\n",
        "  data = cv2.resize(data,(150,150))\n",
        "  data = data/255\n",
        "  train_dog.append(data)\n",
        "\n",
        "print(len(train_cat))\n",
        "print(len(train_dog))\n",
        "\n",
        "list_validate_cat = os.listdir(validation_cats_dir)\n",
        "list_validate_dog = os.listdir(validation_dogs_dir)\n",
        "validate_data = []\n",
        "for i in list_validate_cat:\n",
        "  file_name = os.path.join(validation_cats_dir,i)\n",
        "  data = cv2.imread(file_name)\n",
        "  data = cv2.resize(data,(150,150))\n",
        "  data = data/255\n",
        "  validate_data.append(data)\n",
        "  \n",
        "for i in list_validate_dog:\n",
        "  file_name = os.path.join(validation_dogs_dir,i)\n",
        "  data = cv2.imread(file_name)\n",
        "  data = cv2.resize(data,(150,150))\n",
        "  data = data/255\n",
        "  validate_data.append(data)"
      ],
      "execution_count": 0,
      "outputs": [
        {
          "output_type": "stream",
          "text": [
            "1000\n",
            "1000\n"
          ],
          "name": "stdout"
        }
      ]
    },
    {
      "cell_type": "code",
      "metadata": {
        "id": "3MkVM8GG80vw",
        "colab_type": "code",
        "outputId": "9a3520b1-3852-4a47-ae39-778bc41c3813",
        "colab": {
          "base_uri": "https://localhost:8080/",
          "height": 850
        }
      },
      "source": [
        "train_cat[0]"
      ],
      "execution_count": 0,
      "outputs": [
        {
          "output_type": "execute_result",
          "data": {
            "text/plain": [
              "array([[[0.08627451, 0.05490196, 0.05490196],\n",
              "        [0.09411765, 0.0627451 , 0.0627451 ],\n",
              "        [0.08627451, 0.05490196, 0.05490196],\n",
              "        ...,\n",
              "        [0.07058824, 0.02352941, 0.02352941],\n",
              "        [0.0745098 , 0.02745098, 0.02745098],\n",
              "        [0.0627451 , 0.01176471, 0.00392157]],\n",
              "\n",
              "       [[0.08627451, 0.05490196, 0.05490196],\n",
              "        [0.09411765, 0.0627451 , 0.0627451 ],\n",
              "        [0.0627451 , 0.03137255, 0.03137255],\n",
              "        ...,\n",
              "        [0.10196078, 0.05882353, 0.06666667],\n",
              "        [0.08235294, 0.03921569, 0.04705882],\n",
              "        [0.08627451, 0.05098039, 0.04313725]],\n",
              "\n",
              "       [[0.07843137, 0.04705882, 0.04705882],\n",
              "        [0.07843137, 0.04705882, 0.04705882],\n",
              "        [0.05098039, 0.01960784, 0.01960784],\n",
              "        ...,\n",
              "        [0.11764706, 0.08235294, 0.09019608],\n",
              "        [0.11372549, 0.0745098 , 0.08627451],\n",
              "        [0.08235294, 0.0627451 , 0.06666667]],\n",
              "\n",
              "       ...,\n",
              "\n",
              "       [[0.31372549, 0.30588235, 0.32941176],\n",
              "        [0.28627451, 0.27843137, 0.30196078],\n",
              "        [0.32156863, 0.31372549, 0.3372549 ],\n",
              "        ...,\n",
              "        [0.09411765, 0.07843137, 0.10196078],\n",
              "        [0.08627451, 0.0745098 , 0.09803922],\n",
              "        [0.06666667, 0.05490196, 0.09803922]],\n",
              "\n",
              "       [[0.29803922, 0.29019608, 0.31372549],\n",
              "        [0.28627451, 0.27843137, 0.30196078],\n",
              "        [0.34117647, 0.33333333, 0.35686275],\n",
              "        ...,\n",
              "        [0.11764706, 0.10980392, 0.13333333],\n",
              "        [0.07843137, 0.0745098 , 0.09803922],\n",
              "        [0.06666667, 0.0627451 , 0.09803922]],\n",
              "\n",
              "       [[0.29803922, 0.29019608, 0.31372549],\n",
              "        [0.27843137, 0.27058824, 0.29411765],\n",
              "        [0.30196078, 0.29411765, 0.31764706],\n",
              "        ...,\n",
              "        [0.14117647, 0.13333333, 0.15686275],\n",
              "        [0.12156863, 0.12156863, 0.14509804],\n",
              "        [0.11372549, 0.10980392, 0.14509804]]])"
            ]
          },
          "metadata": {
            "tags": []
          },
          "execution_count": 6
        }
      ]
    },
    {
      "cell_type": "code",
      "metadata": {
        "id": "oSFgTS3I_ree",
        "colab_type": "code",
        "colab": {}
      },
      "source": [
        "train_cat = np.asarray(train_cat)\n",
        "train_dog = np.asarray(train_dog)\n",
        "validate_data = np.asarray(validate_data)"
      ],
      "execution_count": 0,
      "outputs": []
    },
    {
      "cell_type": "code",
      "metadata": {
        "id": "RH_UyDYK_xTt",
        "colab_type": "code",
        "outputId": "54175b2a-f432-4d6f-8369-1123b7fc1e97",
        "colab": {
          "base_uri": "https://localhost:8080/",
          "height": 34
        }
      },
      "source": [
        "train_cat.shape"
      ],
      "execution_count": 0,
      "outputs": [
        {
          "output_type": "execute_result",
          "data": {
            "text/plain": [
              "(1000, 150, 150, 3)"
            ]
          },
          "metadata": {
            "tags": []
          },
          "execution_count": 8
        }
      ]
    },
    {
      "cell_type": "code",
      "metadata": {
        "id": "eCjqN9l2HmET",
        "colab_type": "code",
        "outputId": "f201a7c3-9739-41e4-fc3d-990bab372517",
        "colab": {
          "base_uri": "https://localhost:8080/",
          "height": 68
        }
      },
      "source": [
        "train_image = np.concatenate((train_cat,train_dog),axis=0)\n",
        "print(train_image.shape)\n",
        "train_label = np.concatenate((np.zeros((1,1000),dtype='int'),np.full((1,1000),1,dtype='int')),axis=1)\n",
        "print(train_label.shape)\n",
        "validate_label = np.concatenate((np.zeros((1,len(list_validate_cat)),dtype='int'),np.full((1,len(list_validate_dog)),1,dtype='int')),axis=1)\n",
        "print(validate_label.shape)"
      ],
      "execution_count": 0,
      "outputs": [
        {
          "output_type": "stream",
          "text": [
            "(2000, 150, 150, 3)\n",
            "(1, 2000)\n",
            "(1, 1000)\n"
          ],
          "name": "stdout"
        }
      ]
    },
    {
      "cell_type": "code",
      "metadata": {
        "id": "PiJY7n5A_y79",
        "colab_type": "code",
        "outputId": "e0d6d2f8-5058-4f2b-d301-13267a3541f9",
        "colab": {
          "base_uri": "https://localhost:8080/",
          "height": 34
        }
      },
      "source": [
        "import keras"
      ],
      "execution_count": 0,
      "outputs": [
        {
          "output_type": "stream",
          "text": [
            "Using TensorFlow backend.\n"
          ],
          "name": "stderr"
        }
      ]
    },
    {
      "cell_type": "code",
      "metadata": {
        "id": "Uo7FENyA_2H3",
        "colab_type": "code",
        "outputId": "2c0ba5e8-2a85-4993-ce9d-d082885c8344",
        "colab": {
          "base_uri": "https://localhost:8080/",
          "height": 544
        }
      },
      "source": [
        "from keras.models import Sequential\n",
        "from keras import layers,models\n",
        "\n",
        "from tensorflow.python.client import device_lib\n",
        "\n",
        "print(device_lib.list_local_devices())\n"
      ],
      "execution_count": 0,
      "outputs": [
        {
          "output_type": "stream",
          "text": [
            "[name: \"/device:CPU:0\"\n",
            "device_type: \"CPU\"\n",
            "memory_limit: 268435456\n",
            "locality {\n",
            "}\n",
            "incarnation: 12425774118006147334\n",
            ", name: \"/device:XLA_CPU:0\"\n",
            "device_type: \"XLA_CPU\"\n",
            "memory_limit: 17179869184\n",
            "locality {\n",
            "}\n",
            "incarnation: 18145430237737466003\n",
            "physical_device_desc: \"device: XLA_CPU device\"\n",
            ", name: \"/device:XLA_GPU:0\"\n",
            "device_type: \"XLA_GPU\"\n",
            "memory_limit: 17179869184\n",
            "locality {\n",
            "}\n",
            "incarnation: 12897353928814655005\n",
            "physical_device_desc: \"device: XLA_GPU device\"\n",
            ", name: \"/device:GPU:0\"\n",
            "device_type: \"GPU\"\n",
            "memory_limit: 14800692839\n",
            "locality {\n",
            "  bus_id: 1\n",
            "  links {\n",
            "  }\n",
            "}\n",
            "incarnation: 4587454218869816238\n",
            "physical_device_desc: \"device: 0, name: Tesla T4, pci bus id: 0000:00:04.0, compute capability: 7.5\"\n",
            "]\n"
          ],
          "name": "stdout"
        }
      ]
    },
    {
      "cell_type": "code",
      "metadata": {
        "id": "6DvaL3SqDs7z",
        "colab_type": "code",
        "colab": {}
      },
      "source": [
        "class myCNN():\n",
        "  def __init__(self,train_image,train_label,validation_image,validation_label):\n",
        "    self.train_image = train_image\n",
        "    self.train_label = train_label\n",
        "    self.validation_image = validation_image\n",
        "    self.validation_label = validation_label\n",
        "    self.model = Sequential()\n",
        "    self.model.add(layers.Conv2D(4,(3,3),activation='relu',input_shape=(150,150,3)))\n",
        "    self.model.add(layers.MaxPooling2D(2))\n",
        "    self.model.add(layers.Dropout(.5))\n",
        "    self.model.add(layers.Conv2D(2,(3,3),activation='relu'))\n",
        "    self.model.add(layers.MaxPooling2D(2))\n",
        "    self.model.add(layers.Dropout(.5))\n",
        "    self.model.add(layers.Flatten())\n",
        "    self.model.add(layers.Dense(16,activation='relu'))\n",
        "    self.model.add(layers.Dense(1,activation='sigmoid'))\n",
        "    self.model.summary()\n",
        "  \n",
        "  def fit(self):\n",
        "    self.model.compile(optimizer='sgd',metrics=['acc'],loss='binary_crossentropy')\n",
        "    history = self.model.fit(self.train_image,self.train_label,epochs=100,validation_data = (self.validation_image,self.validation_label))\n",
        "    return history\n",
        "  \n",
        "  def evaluate(self):\n",
        "    test_loss, test_acc = self.model.evaluate(self.validation_image, self.validation_label)\n",
        "    #print(self.model.predict(test_image)[:100])\n",
        "    return test_loss,test_acc\n",
        "    "
      ],
      "execution_count": 0,
      "outputs": []
    },
    {
      "cell_type": "code",
      "metadata": {
        "id": "GQWKADlgFiJQ",
        "colab_type": "code",
        "outputId": "feed3869-339a-4b9b-f337-860e35bc1062",
        "colab": {
          "base_uri": "https://localhost:8080/",
          "height": 3859
        }
      },
      "source": [
        "my = myCNN(train_image,train_label.T,validate_data, validate_label.T)\n",
        "history = my.fit()"
      ],
      "execution_count": 0,
      "outputs": [
        {
          "output_type": "stream",
          "text": [
            "_________________________________________________________________\n",
            "Layer (type)                 Output Shape              Param #   \n",
            "=================================================================\n",
            "conv2d_9 (Conv2D)            (None, 148, 148, 4)       112       \n",
            "_________________________________________________________________\n",
            "max_pooling2d_9 (MaxPooling2 (None, 74, 74, 4)         0         \n",
            "_________________________________________________________________\n",
            "dropout_9 (Dropout)          (None, 74, 74, 4)         0         \n",
            "_________________________________________________________________\n",
            "conv2d_10 (Conv2D)           (None, 72, 72, 2)         74        \n",
            "_________________________________________________________________\n",
            "max_pooling2d_10 (MaxPooling (None, 36, 36, 2)         0         \n",
            "_________________________________________________________________\n",
            "dropout_10 (Dropout)         (None, 36, 36, 2)         0         \n",
            "_________________________________________________________________\n",
            "flatten_5 (Flatten)          (None, 2592)              0         \n",
            "_________________________________________________________________\n",
            "dense_9 (Dense)              (None, 16)                41488     \n",
            "_________________________________________________________________\n",
            "dense_10 (Dense)             (None, 1)                 17        \n",
            "=================================================================\n",
            "Total params: 41,691\n",
            "Trainable params: 41,691\n",
            "Non-trainable params: 0\n",
            "_________________________________________________________________\n",
            "Train on 2000 samples, validate on 1000 samples\n",
            "Epoch 1/100\n",
            "2000/2000 [==============================] - 2s 1ms/step - loss: 0.7147 - acc: 0.5040 - val_loss: 0.6932 - val_acc: 0.5000\n",
            "Epoch 2/100\n",
            "2000/2000 [==============================] - 2s 802us/step - loss: 0.6996 - acc: 0.4820 - val_loss: 0.6932 - val_acc: 0.5000\n",
            "Epoch 3/100\n",
            "2000/2000 [==============================] - 2s 774us/step - loss: 0.6963 - acc: 0.4930 - val_loss: 0.6932 - val_acc: 0.5000\n",
            "Epoch 4/100\n",
            "2000/2000 [==============================] - 2s 773us/step - loss: 0.6969 - acc: 0.4945 - val_loss: 0.6933 - val_acc: 0.5000\n",
            "Epoch 5/100\n",
            "2000/2000 [==============================] - 2s 765us/step - loss: 0.6923 - acc: 0.5230 - val_loss: 0.6933 - val_acc: 0.5000\n",
            "Epoch 6/100\n",
            "2000/2000 [==============================] - 2s 772us/step - loss: 0.6926 - acc: 0.5050 - val_loss: 0.6933 - val_acc: 0.5000\n",
            "Epoch 7/100\n",
            "2000/2000 [==============================] - 2s 765us/step - loss: 0.6933 - acc: 0.4995 - val_loss: 0.6934 - val_acc: 0.5000\n",
            "Epoch 8/100\n",
            "2000/2000 [==============================] - 2s 771us/step - loss: 0.6932 - acc: 0.5075 - val_loss: 0.6934 - val_acc: 0.5000\n",
            "Epoch 9/100\n",
            "2000/2000 [==============================] - 2s 767us/step - loss: 0.6921 - acc: 0.5230 - val_loss: 0.6934 - val_acc: 0.5000\n",
            "Epoch 10/100\n",
            "2000/2000 [==============================] - 2s 775us/step - loss: 0.6918 - acc: 0.5205 - val_loss: 0.6934 - val_acc: 0.5000\n",
            "Epoch 11/100\n",
            "2000/2000 [==============================] - 2s 766us/step - loss: 0.6914 - acc: 0.5365 - val_loss: 0.6934 - val_acc: 0.5000\n",
            "Epoch 12/100\n",
            "2000/2000 [==============================] - 2s 766us/step - loss: 0.6912 - acc: 0.5245 - val_loss: 0.6934 - val_acc: 0.5000\n",
            "Epoch 13/100\n",
            "2000/2000 [==============================] - 2s 766us/step - loss: 0.6940 - acc: 0.5125 - val_loss: 0.6934 - val_acc: 0.5000\n",
            "Epoch 14/100\n",
            "2000/2000 [==============================] - 2s 763us/step - loss: 0.6900 - acc: 0.5255 - val_loss: 0.6935 - val_acc: 0.5000\n",
            "Epoch 15/100\n",
            "2000/2000 [==============================] - 2s 766us/step - loss: 0.6904 - acc: 0.5375 - val_loss: 0.6935 - val_acc: 0.5000\n",
            "Epoch 16/100\n",
            "2000/2000 [==============================] - 2s 773us/step - loss: 0.6886 - acc: 0.5400 - val_loss: 0.6936 - val_acc: 0.5000\n",
            "Epoch 17/100\n",
            "2000/2000 [==============================] - 2s 762us/step - loss: 0.6916 - acc: 0.5160 - val_loss: 0.6936 - val_acc: 0.5000\n",
            "Epoch 18/100\n",
            "2000/2000 [==============================] - 2s 764us/step - loss: 0.6927 - acc: 0.5165 - val_loss: 0.6937 - val_acc: 0.5000\n",
            "Epoch 19/100\n",
            "2000/2000 [==============================] - 2s 760us/step - loss: 0.6912 - acc: 0.5260 - val_loss: 0.6937 - val_acc: 0.5000\n",
            "Epoch 20/100\n",
            "2000/2000 [==============================] - 2s 767us/step - loss: 0.6912 - acc: 0.5215 - val_loss: 0.6938 - val_acc: 0.5000\n",
            "Epoch 21/100\n",
            "2000/2000 [==============================] - 2s 767us/step - loss: 0.6915 - acc: 0.5225 - val_loss: 0.6938 - val_acc: 0.5000\n",
            "Epoch 22/100\n",
            "2000/2000 [==============================] - 2s 766us/step - loss: 0.6907 - acc: 0.5345 - val_loss: 0.6938 - val_acc: 0.5000\n",
            "Epoch 23/100\n",
            "2000/2000 [==============================] - 2s 769us/step - loss: 0.6902 - acc: 0.5390 - val_loss: 0.6939 - val_acc: 0.5000\n",
            "Epoch 24/100\n",
            "2000/2000 [==============================] - 2s 774us/step - loss: 0.6899 - acc: 0.5280 - val_loss: 0.6941 - val_acc: 0.5000\n",
            "Epoch 25/100\n",
            "2000/2000 [==============================] - 2s 766us/step - loss: 0.6897 - acc: 0.5330 - val_loss: 0.6941 - val_acc: 0.5000\n",
            "Epoch 26/100\n",
            "2000/2000 [==============================] - 2s 763us/step - loss: 0.6891 - acc: 0.5565 - val_loss: 0.6944 - val_acc: 0.5000\n",
            "Epoch 27/100\n",
            "2000/2000 [==============================] - 2s 764us/step - loss: 0.6883 - acc: 0.5440 - val_loss: 0.6945 - val_acc: 0.5000\n",
            "Epoch 28/100\n",
            "2000/2000 [==============================] - 2s 769us/step - loss: 0.6862 - acc: 0.5545 - val_loss: 0.6943 - val_acc: 0.5000\n",
            "Epoch 29/100\n",
            "2000/2000 [==============================] - 2s 755us/step - loss: 0.6854 - acc: 0.5650 - val_loss: 0.6950 - val_acc: 0.5000\n",
            "Epoch 30/100\n",
            "2000/2000 [==============================] - 2s 767us/step - loss: 0.6849 - acc: 0.5620 - val_loss: 0.6953 - val_acc: 0.5000\n",
            "Epoch 31/100\n",
            "2000/2000 [==============================] - 2s 752us/step - loss: 0.6831 - acc: 0.5745 - val_loss: 0.6952 - val_acc: 0.5010\n",
            "Epoch 32/100\n",
            "2000/2000 [==============================] - 2s 766us/step - loss: 0.6820 - acc: 0.5755 - val_loss: 0.6960 - val_acc: 0.5000\n",
            "Epoch 33/100\n",
            "2000/2000 [==============================] - 2s 753us/step - loss: 0.6830 - acc: 0.5760 - val_loss: 0.6963 - val_acc: 0.5000\n",
            "Epoch 34/100\n",
            "2000/2000 [==============================] - 2s 760us/step - loss: 0.6825 - acc: 0.5605 - val_loss: 0.6959 - val_acc: 0.5010\n",
            "Epoch 35/100\n",
            "2000/2000 [==============================] - 2s 753us/step - loss: 0.6823 - acc: 0.5675 - val_loss: 0.6969 - val_acc: 0.5010\n",
            "Epoch 36/100\n",
            "2000/2000 [==============================] - 2s 758us/step - loss: 0.6804 - acc: 0.5840 - val_loss: 0.6954 - val_acc: 0.5020\n",
            "Epoch 37/100\n",
            "2000/2000 [==============================] - 2s 761us/step - loss: 0.6786 - acc: 0.5865 - val_loss: 0.6973 - val_acc: 0.5020\n",
            "Epoch 38/100\n",
            "2000/2000 [==============================] - 2s 762us/step - loss: 0.6773 - acc: 0.5820 - val_loss: 0.6913 - val_acc: 0.5080\n",
            "Epoch 39/100\n",
            "2000/2000 [==============================] - 2s 758us/step - loss: 0.6735 - acc: 0.5790 - val_loss: 0.6951 - val_acc: 0.5040\n",
            "Epoch 40/100\n",
            "2000/2000 [==============================] - 2s 758us/step - loss: 0.6736 - acc: 0.5995 - val_loss: 0.6793 - val_acc: 0.5800\n",
            "Epoch 41/100\n",
            "2000/2000 [==============================] - 2s 756us/step - loss: 0.6748 - acc: 0.5985 - val_loss: 0.6771 - val_acc: 0.5860\n",
            "Epoch 42/100\n",
            "2000/2000 [==============================] - 2s 756us/step - loss: 0.6702 - acc: 0.5990 - val_loss: 0.6671 - val_acc: 0.6310\n",
            "Epoch 43/100\n",
            "2000/2000 [==============================] - 2s 751us/step - loss: 0.6685 - acc: 0.6070 - val_loss: 0.6691 - val_acc: 0.6240\n",
            "Epoch 44/100\n",
            "2000/2000 [==============================] - 2s 763us/step - loss: 0.6679 - acc: 0.5950 - val_loss: 0.6697 - val_acc: 0.6110\n",
            "Epoch 45/100\n",
            "2000/2000 [==============================] - 2s 754us/step - loss: 0.6654 - acc: 0.5990 - val_loss: 0.6749 - val_acc: 0.5790\n",
            "Epoch 46/100\n",
            "2000/2000 [==============================] - 2s 755us/step - loss: 0.6596 - acc: 0.6145 - val_loss: 0.6735 - val_acc: 0.5850\n",
            "Epoch 47/100\n",
            "2000/2000 [==============================] - 2s 754us/step - loss: 0.6614 - acc: 0.6090 - val_loss: 0.6583 - val_acc: 0.6260\n",
            "Epoch 48/100\n",
            "2000/2000 [==============================] - 2s 756us/step - loss: 0.6595 - acc: 0.6075 - val_loss: 0.6554 - val_acc: 0.6250\n",
            "Epoch 49/100\n",
            "2000/2000 [==============================] - 2s 757us/step - loss: 0.6609 - acc: 0.6155 - val_loss: 0.6794 - val_acc: 0.5550\n",
            "Epoch 50/100\n",
            "2000/2000 [==============================] - 2s 759us/step - loss: 0.6544 - acc: 0.6150 - val_loss: 0.6963 - val_acc: 0.5220\n",
            "Epoch 51/100\n",
            "2000/2000 [==============================] - 2s 752us/step - loss: 0.6506 - acc: 0.6210 - val_loss: 0.6587 - val_acc: 0.6170\n",
            "Epoch 52/100\n",
            "2000/2000 [==============================] - 2s 753us/step - loss: 0.6556 - acc: 0.6125 - val_loss: 0.6676 - val_acc: 0.5950\n",
            "Epoch 53/100\n",
            "2000/2000 [==============================] - 2s 756us/step - loss: 0.6501 - acc: 0.6205 - val_loss: 0.6517 - val_acc: 0.6120\n",
            "Epoch 54/100\n",
            "2000/2000 [==============================] - 1s 747us/step - loss: 0.6425 - acc: 0.6340 - val_loss: 0.6845 - val_acc: 0.5480\n",
            "Epoch 55/100\n",
            "2000/2000 [==============================] - 2s 761us/step - loss: 0.6471 - acc: 0.6145 - val_loss: 0.6672 - val_acc: 0.5890\n",
            "Epoch 56/100\n",
            "2000/2000 [==============================] - 2s 764us/step - loss: 0.6458 - acc: 0.6260 - val_loss: 0.6452 - val_acc: 0.6210\n",
            "Epoch 57/100\n",
            "2000/2000 [==============================] - 2s 766us/step - loss: 0.6512 - acc: 0.6145 - val_loss: 0.6620 - val_acc: 0.5970\n",
            "Epoch 58/100\n",
            "2000/2000 [==============================] - 2s 752us/step - loss: 0.6364 - acc: 0.6415 - val_loss: 0.6684 - val_acc: 0.5830\n",
            "Epoch 59/100\n",
            "2000/2000 [==============================] - 2s 756us/step - loss: 0.6399 - acc: 0.6165 - val_loss: 0.6433 - val_acc: 0.6240\n",
            "Epoch 60/100\n",
            "2000/2000 [==============================] - 2s 753us/step - loss: 0.6330 - acc: 0.6345 - val_loss: 0.6515 - val_acc: 0.6100\n",
            "Epoch 61/100\n",
            "2000/2000 [==============================] - 2s 751us/step - loss: 0.6341 - acc: 0.6480 - val_loss: 0.6969 - val_acc: 0.5380\n",
            "Epoch 62/100\n",
            "2000/2000 [==============================] - 2s 754us/step - loss: 0.6258 - acc: 0.6410 - val_loss: 0.6370 - val_acc: 0.6330\n",
            "Epoch 63/100\n",
            "2000/2000 [==============================] - 2s 751us/step - loss: 0.6324 - acc: 0.6435 - val_loss: 0.6702 - val_acc: 0.5800\n",
            "Epoch 64/100\n",
            "2000/2000 [==============================] - 2s 764us/step - loss: 0.6269 - acc: 0.6475 - val_loss: 0.7212 - val_acc: 0.5110\n",
            "Epoch 65/100\n",
            "2000/2000 [==============================] - 2s 755us/step - loss: 0.6306 - acc: 0.6450 - val_loss: 0.7119 - val_acc: 0.5280\n",
            "Epoch 66/100\n",
            "2000/2000 [==============================] - 2s 755us/step - loss: 0.6205 - acc: 0.6455 - val_loss: 0.6689 - val_acc: 0.5810\n",
            "Epoch 67/100\n",
            "2000/2000 [==============================] - 2s 753us/step - loss: 0.6239 - acc: 0.6495 - val_loss: 0.6510 - val_acc: 0.6090\n",
            "Epoch 68/100\n",
            "2000/2000 [==============================] - 2s 758us/step - loss: 0.6198 - acc: 0.6500 - val_loss: 0.6610 - val_acc: 0.5970\n",
            "Epoch 69/100\n",
            "2000/2000 [==============================] - 2s 760us/step - loss: 0.6074 - acc: 0.6715 - val_loss: 0.6611 - val_acc: 0.6000\n",
            "Epoch 70/100\n",
            "2000/2000 [==============================] - 2s 753us/step - loss: 0.6137 - acc: 0.6495 - val_loss: 0.6569 - val_acc: 0.5990\n",
            "Epoch 71/100\n",
            "2000/2000 [==============================] - 2s 760us/step - loss: 0.6087 - acc: 0.6585 - val_loss: 0.6352 - val_acc: 0.6410\n",
            "Epoch 72/100\n",
            "2000/2000 [==============================] - 2s 759us/step - loss: 0.6073 - acc: 0.6670 - val_loss: 0.6556 - val_acc: 0.6000\n",
            "Epoch 73/100\n",
            "2000/2000 [==============================] - 2s 757us/step - loss: 0.6037 - acc: 0.6855 - val_loss: 0.6291 - val_acc: 0.6540\n",
            "Epoch 74/100\n",
            "2000/2000 [==============================] - 2s 759us/step - loss: 0.5957 - acc: 0.6765 - val_loss: 0.6397 - val_acc: 0.6310\n",
            "Epoch 75/100\n",
            "2000/2000 [==============================] - 2s 754us/step - loss: 0.5977 - acc: 0.6825 - val_loss: 0.6584 - val_acc: 0.5960\n",
            "Epoch 76/100\n",
            "2000/2000 [==============================] - 2s 753us/step - loss: 0.5960 - acc: 0.6775 - val_loss: 0.6394 - val_acc: 0.6340\n",
            "Epoch 77/100\n",
            "2000/2000 [==============================] - 2s 760us/step - loss: 0.5833 - acc: 0.6960 - val_loss: 0.6562 - val_acc: 0.6090\n",
            "Epoch 78/100\n",
            "2000/2000 [==============================] - 2s 762us/step - loss: 0.5905 - acc: 0.6815 - val_loss: 0.6538 - val_acc: 0.6100\n",
            "Epoch 79/100\n",
            "2000/2000 [==============================] - 2s 755us/step - loss: 0.5842 - acc: 0.6955 - val_loss: 0.6317 - val_acc: 0.6510\n",
            "Epoch 80/100\n",
            "2000/2000 [==============================] - 2s 758us/step - loss: 0.5879 - acc: 0.6765 - val_loss: 0.6759 - val_acc: 0.5910\n",
            "Epoch 81/100\n",
            "2000/2000 [==============================] - 2s 751us/step - loss: 0.5921 - acc: 0.6860 - val_loss: 0.6937 - val_acc: 0.5600\n",
            "Epoch 82/100\n",
            "2000/2000 [==============================] - 2s 756us/step - loss: 0.5740 - acc: 0.7055 - val_loss: 0.6177 - val_acc: 0.6370\n",
            "Epoch 83/100\n",
            "2000/2000 [==============================] - 2s 755us/step - loss: 0.5811 - acc: 0.6875 - val_loss: 0.6611 - val_acc: 0.6040\n",
            "Epoch 84/100\n",
            "2000/2000 [==============================] - 2s 757us/step - loss: 0.5797 - acc: 0.6900 - val_loss: 0.6406 - val_acc: 0.6380\n",
            "Epoch 85/100\n",
            "2000/2000 [==============================] - 2s 767us/step - loss: 0.5706 - acc: 0.7025 - val_loss: 0.6249 - val_acc: 0.6590\n",
            "Epoch 86/100\n",
            "2000/2000 [==============================] - 2s 755us/step - loss: 0.5626 - acc: 0.7140 - val_loss: 0.6292 - val_acc: 0.6620\n",
            "Epoch 87/100\n",
            "2000/2000 [==============================] - 2s 755us/step - loss: 0.5707 - acc: 0.6965 - val_loss: 0.6556 - val_acc: 0.6100\n",
            "Epoch 88/100\n",
            "2000/2000 [==============================] - 2s 754us/step - loss: 0.5679 - acc: 0.6950 - val_loss: 0.6234 - val_acc: 0.6670\n",
            "Epoch 89/100\n",
            "2000/2000 [==============================] - 2s 763us/step - loss: 0.5691 - acc: 0.7100 - val_loss: 0.6243 - val_acc: 0.6490\n",
            "Epoch 90/100\n",
            "2000/2000 [==============================] - 2s 759us/step - loss: 0.5538 - acc: 0.7185 - val_loss: 0.6317 - val_acc: 0.6230\n",
            "Epoch 91/100\n",
            "2000/2000 [==============================] - 2s 760us/step - loss: 0.5616 - acc: 0.7175 - val_loss: 0.6656 - val_acc: 0.6010\n",
            "Epoch 92/100\n",
            "2000/2000 [==============================] - 2s 772us/step - loss: 0.5655 - acc: 0.7000 - val_loss: 0.6372 - val_acc: 0.6500\n",
            "Epoch 93/100\n",
            "2000/2000 [==============================] - 2s 763us/step - loss: 0.5506 - acc: 0.7210 - val_loss: 0.6284 - val_acc: 0.6440\n",
            "Epoch 94/100\n",
            "2000/2000 [==============================] - 2s 758us/step - loss: 0.5485 - acc: 0.7180 - val_loss: 0.6156 - val_acc: 0.6650\n",
            "Epoch 95/100\n",
            "2000/2000 [==============================] - 2s 759us/step - loss: 0.5579 - acc: 0.7200 - val_loss: 0.6241 - val_acc: 0.6570\n",
            "Epoch 96/100\n",
            "2000/2000 [==============================] - 2s 751us/step - loss: 0.5547 - acc: 0.7290 - val_loss: 0.6173 - val_acc: 0.6650\n",
            "Epoch 97/100\n",
            "2000/2000 [==============================] - 2s 762us/step - loss: 0.5447 - acc: 0.7300 - val_loss: 0.6193 - val_acc: 0.6630\n",
            "Epoch 98/100\n",
            "2000/2000 [==============================] - 2s 753us/step - loss: 0.5431 - acc: 0.7295 - val_loss: 0.6189 - val_acc: 0.6660\n",
            "Epoch 99/100\n",
            "2000/2000 [==============================] - 2s 766us/step - loss: 0.5407 - acc: 0.7145 - val_loss: 0.6394 - val_acc: 0.6390\n",
            "Epoch 100/100\n",
            "2000/2000 [==============================] - 2s 760us/step - loss: 0.5464 - acc: 0.7220 - val_loss: 0.6373 - val_acc: 0.6530\n"
          ],
          "name": "stdout"
        }
      ]
    },
    {
      "cell_type": "code",
      "metadata": {
        "id": "wF6zBadHFk7A",
        "colab_type": "code",
        "outputId": "8d2a47da-e281-4d50-8c70-f703715b7af8",
        "colab": {
          "base_uri": "https://localhost:8080/",
          "height": 51
        }
      },
      "source": [
        "test_loss, test_acc = my.evaluate()\n",
        "print(\"LOSS : {} and ACCURACY : {}\".format(test_loss,test_acc))\n"
      ],
      "execution_count": 0,
      "outputs": [
        {
          "output_type": "stream",
          "text": [
            "1000/1000 [==============================] - 0s 390us/step\n",
            "LOSS : 0.6372641725540161 and ACCURACY : 0.653\n"
          ],
          "name": "stdout"
        }
      ]
    },
    {
      "cell_type": "code",
      "metadata": {
        "id": "LYVZyVLfTQES",
        "colab_type": "code",
        "colab": {}
      },
      "source": [
        "import matplotlib.pyplot as plt"
      ],
      "execution_count": 0,
      "outputs": []
    },
    {
      "cell_type": "code",
      "metadata": {
        "id": "68syCvcLdILs",
        "colab_type": "code",
        "outputId": "c5823dd7-98dd-44c9-9318-5693e1886b87",
        "colab": {
          "base_uri": "https://localhost:8080/",
          "height": 34
        }
      },
      "source": [
        "print(history.history.keys())"
      ],
      "execution_count": 0,
      "outputs": [
        {
          "output_type": "stream",
          "text": [
            "dict_keys(['val_loss', 'val_acc', 'loss', 'acc'])\n"
          ],
          "name": "stdout"
        }
      ]
    },
    {
      "cell_type": "code",
      "metadata": {
        "id": "q8ZO0yJ-basF",
        "colab_type": "code",
        "outputId": "dd0053b4-3e2a-474e-c704-e6fc3e127817",
        "colab": {
          "base_uri": "https://localhost:8080/",
          "height": 295
        }
      },
      "source": [
        "plt.plot(history.history['loss'])\n",
        "plt.plot(history.history['val_loss'])\n",
        "plt.title('model loss')\n",
        "plt.ylabel('loss')\n",
        "plt.xlabel('epoch')\n",
        "plt.legend(['train', 'validation'], loc='upper left')\n",
        "plt.show()"
      ],
      "execution_count": 0,
      "outputs": [
        {
          "output_type": "display_data",
          "data": {
            "image/png": "[encoded data removed]",
            "text/plain": [
              "<Figure size 432x288 with 1 Axes>"
            ]
          },
          "metadata": {
            "tags": []
          }
        }
      ]
    },
    {
      "cell_type": "code",
      "metadata": {
        "id": "eQTwm9Bod-9J",
        "colab_type": "code",
        "outputId": "d6430f4d-e295-4603-a57f-5abd564b05be",
        "colab": {
          "base_uri": "https://localhost:8080/",
          "height": 295
        }
      },
      "source": [
        "plt.plot(history.history['acc'])\n",
        "plt.plot(history.history['val_acc'])\n",
        "plt.title('model accuracy')\n",
        "plt.ylabel('accuracy')\n",
        "plt.xlabel('epoch')\n",
        "plt.legend(['train', 'test'], loc='upper left')\n",
        "plt.show()"
      ],
      "execution_count": 0,
      "outputs": [
        {
          "output_type": "display_data",
          "data": {
            "image/png": "[encoded data removed]",
            "text/plain": [
              "<Figure size 432x288 with 1 Axes>"
            ]
          },
          "metadata": {
            "tags": []
          }
        }
      ]
    },
    {
      "cell_type": "code",
      "metadata": {
        "id": "_jFpOIyyd_qk",
        "colab_type": "code",
        "colab": {}
      },
      "source": [
        ""
      ],
      "execution_count": 0,
      "outputs": []
    }
  ]
}