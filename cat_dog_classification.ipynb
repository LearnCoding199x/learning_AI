{
  "nbformat": 4,
  "nbformat_minor": 0,
  "metadata": {
    "colab": {
      "name": "cat_dog_classification",
      "version": "0.3.2",
      "provenance": [],
      "include_colab_link": true
    },
    "kernelspec": {
      "name": "python3",
      "display_name": "Python 3"
    },
    "accelerator": "GPU"
  },
  "cells": [
    {
      "cell_type": "markdown",
      "metadata": {
        "id": "view-in-github",
        "colab_type": "text"
      },
      "source": [
        "<a href=\"https://colab.research.google.com/github/LearnCoding199x/learning_AI/blob/master/cat_dog_classification.ipynb\" target=\"_parent\"><img src=\"https://colab.research.google.com/assets/colab-badge.svg\" alt=\"Open In Colab\"/></a>"
      ]
    },
    {
      "cell_type": "code",
      "metadata": {
        "id": "P02MdGEU8FDk",
        "colab_type": "code",
        "colab": {}
      },
      "source": [
        "\n",
        "\n",
        "import tensorflow as tf\n",
        "import numpy as np\n",
        "import cv2"
      ],
      "execution_count": 0,
      "outputs": []
    },
    {
      "cell_type": "code",
      "metadata": {
        "id": "eXJIucLI8kGE",
        "colab_type": "code",
        "colab": {
          "base_uri": "https://localhost:8080/",
          "height": 204
        },
        "outputId": "e05a6951-79c9-469a-c17b-1c7bdac1f229"
      },
      "source": [
        "!wget --no-check-certificate \\\n",
        "    https://storage.googleapis.com/mledu-datasets/cats_and_dogs_filtered.zip \\\n",
        "    -O /tmp/cats_and_dogs_filtered.zip"
      ],
      "execution_count": 2,
      "outputs": [
        {
          "output_type": "stream",
          "text": [
            "--2019-06-06 16:50:58--  https://storage.googleapis.com/mledu-datasets/cats_and_dogs_filtered.zip\n",
            "Resolving storage.googleapis.com (storage.googleapis.com)... 74.125.141.128, 2607:f8b0:400c:c06::80\n",
            "Connecting to storage.googleapis.com (storage.googleapis.com)|74.125.141.128|:443... connected.\n",
            "HTTP request sent, awaiting response... 200 OK\n",
            "Length: 68606236 (65M) [application/zip]\n",
            "Saving to: ‘/tmp/cats_and_dogs_filtered.zip’\n",
            "\n",
            "\r          /tmp/cats   0%[                    ]       0  --.-KB/s               \r         /tmp/cats_  56%[==========>         ]  37.11M   186MB/s               \r/tmp/cats_and_dogs_ 100%[===================>]  65.43M   191MB/s    in 0.3s    \n",
            "\n",
            "2019-06-06 16:50:58 (191 MB/s) - ‘/tmp/cats_and_dogs_filtered.zip’ saved [68606236/68606236]\n",
            "\n"
          ],
          "name": "stdout"
        }
      ]
    },
    {
      "cell_type": "code",
      "metadata": {
        "id": "hf3z5vtE8oNo",
        "colab_type": "code",
        "colab": {}
      },
      "source": [
        "import os\n",
        "import zipfile\n",
        "\n",
        "local_zip = '/tmp/cats_and_dogs_filtered.zip'\n",
        "zip_ref = zipfile.ZipFile(local_zip, 'r')\n",
        "zip_ref.extractall('/tmp')\n",
        "zip_ref.close()"
      ],
      "execution_count": 0,
      "outputs": []
    },
    {
      "cell_type": "code",
      "metadata": {
        "id": "J9FE0ylg8r3f",
        "colab_type": "code",
        "colab": {}
      },
      "source": [
        "base_dir = '/tmp/cats_and_dogs_filtered'\n",
        "train_dir = os.path.join(base_dir, 'train')\n",
        "validation_dir = os.path.join(base_dir, 'validation')\n",
        "\n",
        "# Directory with our training cat pictures\n",
        "train_cats_dir = os.path.join(train_dir, 'cats')\n",
        "\n",
        "# Directory with our training dog pictures\n",
        "train_dogs_dir = os.path.join(train_dir, 'dogs')\n",
        "\n",
        "# Directory with our validation cat pictures\n",
        "validation_cats_dir = os.path.join(validation_dir, 'cats')\n",
        "\n",
        "# Directory with our validation dog pictures\n",
        "validation_dogs_dir = os.path.join(validation_dir, 'dogs')"
      ],
      "execution_count": 0,
      "outputs": []
    },
    {
      "cell_type": "code",
      "metadata": {
        "id": "8EJLnozP8xBK",
        "colab_type": "code",
        "colab": {
          "base_uri": "https://localhost:8080/",
          "height": 51
        },
        "outputId": "55180cb1-6852-4a28-f163-cc84d26c3457"
      },
      "source": [
        "list_train_cat = os.listdir(train_cats_dir)\n",
        "list_train_dog = os.listdir(train_dogs_dir)\n",
        "train_cat = []\n",
        "train_dog = []\n",
        "for i in list_train_cat:\n",
        "  file_name = os.path.join(train_cats_dir,i)\n",
        "  data = cv2.imread(file_name)\n",
        "  data = cv2.resize(data,(150,150))\n",
        "  data = data/255\n",
        "  train_cat.append(data)\n",
        "  \n",
        "for i in list_train_dog:\n",
        "  file_name = os.path.join(train_dogs_dir,i)\n",
        "  data = cv2.imread(file_name)\n",
        "  data = cv2.resize(data,(150,150))\n",
        "  data = data/255\n",
        "  train_dog.append(data)\n",
        "\n",
        "print(len(train_cat))\n",
        "print(len(train_dog))\n",
        "\n",
        "list_validate_cat = os.listdir(validation_cats_dir)\n",
        "list_validate_dog = os.listdir(validation_dogs_dir)\n",
        "validate_data = []\n",
        "for i in list_validate_cat:\n",
        "  file_name = os.path.join(validation_cats_dir,i)\n",
        "  data = cv2.imread(file_name)\n",
        "  data = cv2.resize(data,(150,150))\n",
        "  data = data/255\n",
        "  validate_data.append(data)\n",
        "  \n",
        "for i in list_validate_dog:\n",
        "  file_name = os.path.join(validation_dogs_dir,i)\n",
        "  data = cv2.imread(file_name)\n",
        "  data = cv2.resize(data,(150,150))\n",
        "  data = data/255\n",
        "  validate_data.append(data)"
      ],
      "execution_count": 5,
      "outputs": [
        {
          "output_type": "stream",
          "text": [
            "1000\n",
            "1000\n"
          ],
          "name": "stdout"
        }
      ]
    },
    {
      "cell_type": "code",
      "metadata": {
        "id": "3MkVM8GG80vw",
        "colab_type": "code",
        "colab": {
          "base_uri": "https://localhost:8080/",
          "height": 850
        },
        "outputId": "2018bd67-3d82-4770-bd26-326e9ba7ec14"
      },
      "source": [
        "train_cat[0]"
      ],
      "execution_count": 6,
      "outputs": [
        {
          "output_type": "execute_result",
          "data": {
            "text/plain": [
              "array([[[0.45490196, 0.59215686, 0.72941176],\n",
              "        [0.45882353, 0.58431373, 0.74117647],\n",
              "        [0.48627451, 0.58039216, 0.74509804],\n",
              "        ...,\n",
              "        [0.15686275, 0.18039216, 0.17647059],\n",
              "        [0.17647059, 0.19607843, 0.19215686],\n",
              "        [0.17647059, 0.19607843, 0.19215686]],\n",
              "\n",
              "       [[0.45882353, 0.56862745, 0.74901961],\n",
              "        [0.49019608, 0.6       , 0.78039216],\n",
              "        [0.49411765, 0.59215686, 0.76862745],\n",
              "        ...,\n",
              "        [0.14901961, 0.16862745, 0.16470588],\n",
              "        [0.16862745, 0.18823529, 0.18431373],\n",
              "        [0.16862745, 0.18823529, 0.18431373]],\n",
              "\n",
              "       [[0.48235294, 0.57254902, 0.77647059],\n",
              "        [0.47058824, 0.57254902, 0.76862745],\n",
              "        [0.47843137, 0.58431373, 0.75686275],\n",
              "        ...,\n",
              "        [0.14901961, 0.16862745, 0.16470588],\n",
              "        [0.15686275, 0.17647059, 0.17254902],\n",
              "        [0.17647059, 0.19607843, 0.19215686]],\n",
              "\n",
              "       ...,\n",
              "\n",
              "       [[0.89411765, 0.87843137, 0.63137255],\n",
              "        [0.85882353, 0.85490196, 0.6       ],\n",
              "        [0.8745098 , 0.88235294, 0.61960784],\n",
              "        ...,\n",
              "        [0.7254902 , 0.8       , 0.85882353],\n",
              "        [0.71372549, 0.78823529, 0.84705882],\n",
              "        [0.69803922, 0.77254902, 0.83137255]],\n",
              "\n",
              "       [[0.90196078, 0.89411765, 0.61568627],\n",
              "        [0.90980392, 0.89411765, 0.66666667],\n",
              "        [0.9254902 , 0.90980392, 0.72941176],\n",
              "        ...,\n",
              "        [0.7372549 , 0.81176471, 0.87058824],\n",
              "        [0.72156863, 0.8       , 0.85882353],\n",
              "        [0.67843137, 0.75294118, 0.81176471]],\n",
              "\n",
              "       [[0.85490196, 0.85882353, 0.61568627],\n",
              "        [0.87058824, 0.88235294, 0.65098039],\n",
              "        [0.85882353, 0.87058824, 0.66666667],\n",
              "        ...,\n",
              "        [0.68235294, 0.77254902, 0.83137255],\n",
              "        [0.65490196, 0.74509804, 0.80392157],\n",
              "        [0.63137255, 0.72156863, 0.78039216]]])"
            ]
          },
          "metadata": {
            "tags": []
          },
          "execution_count": 6
        }
      ]
    },
    {
      "cell_type": "code",
      "metadata": {
        "id": "oSFgTS3I_ree",
        "colab_type": "code",
        "colab": {}
      },
      "source": [
        "train_cat = np.asarray(train_cat)\n",
        "train_dog = np.asarray(train_dog)\n",
        "validate_data = np.asarray(validate_data)"
      ],
      "execution_count": 0,
      "outputs": []
    },
    {
      "cell_type": "code",
      "metadata": {
        "id": "RH_UyDYK_xTt",
        "colab_type": "code",
        "colab": {
          "base_uri": "https://localhost:8080/",
          "height": 34
        },
        "outputId": "509cd9e1-ec3e-4585-8be9-a18ddb63932c"
      },
      "source": [
        "train_cat.shape"
      ],
      "execution_count": 8,
      "outputs": [
        {
          "output_type": "execute_result",
          "data": {
            "text/plain": [
              "(1000, 150, 150, 3)"
            ]
          },
          "metadata": {
            "tags": []
          },
          "execution_count": 8
        }
      ]
    },
    {
      "cell_type": "code",
      "metadata": {
        "id": "eCjqN9l2HmET",
        "colab_type": "code",
        "colab": {
          "base_uri": "https://localhost:8080/",
          "height": 68
        },
        "outputId": "6835136f-2b97-4c54-9f39-ec7ac3eeaaaa"
      },
      "source": [
        "train_image = np.concatenate((train_cat,train_dog),axis=0)\n",
        "print(train_image.shape)\n",
        "train_label = np.concatenate((np.zeros((1,1000),dtype='int'),np.full((1,1000),1,dtype='int')),axis=1)\n",
        "print(train_label.shape)\n",
        "validate_label = np.concatenate((np.zeros((1,len(list_validate_cat)),dtype='int'),np.full((1,len(list_validate_dog)),1,dtype='int')),axis=1)\n",
        "print(validate_label.shape)"
      ],
      "execution_count": 9,
      "outputs": [
        {
          "output_type": "stream",
          "text": [
            "(2000, 150, 150, 3)\n",
            "(1, 2000)\n",
            "(1, 1000)\n"
          ],
          "name": "stdout"
        }
      ]
    },
    {
      "cell_type": "code",
      "metadata": {
        "id": "PiJY7n5A_y79",
        "colab_type": "code",
        "colab": {
          "base_uri": "https://localhost:8080/",
          "height": 34
        },
        "outputId": "8852ee91-3833-48c5-e88e-f16847f18106"
      },
      "source": [
        "import keras"
      ],
      "execution_count": 10,
      "outputs": [
        {
          "output_type": "stream",
          "text": [
            "Using TensorFlow backend.\n"
          ],
          "name": "stderr"
        }
      ]
    },
    {
      "cell_type": "code",
      "metadata": {
        "id": "Uo7FENyA_2H3",
        "colab_type": "code",
        "colab": {
          "base_uri": "https://localhost:8080/",
          "height": 544
        },
        "outputId": "4d1f7a00-fd37-42c4-fb00-f2fbe2764350"
      },
      "source": [
        "from keras.models import Sequential\n",
        "from keras import layers,models\n",
        "\n",
        "from tensorflow.python.client import device_lib\n",
        "\n",
        "print(device_lib.list_local_devices())\n"
      ],
      "execution_count": 11,
      "outputs": [
        {
          "output_type": "stream",
          "text": [
            "[name: \"/device:CPU:0\"\n",
            "device_type: \"CPU\"\n",
            "memory_limit: 268435456\n",
            "locality {\n",
            "}\n",
            "incarnation: 18364194484150508246\n",
            ", name: \"/device:XLA_CPU:0\"\n",
            "device_type: \"XLA_CPU\"\n",
            "memory_limit: 17179869184\n",
            "locality {\n",
            "}\n",
            "incarnation: 4459392448703221708\n",
            "physical_device_desc: \"device: XLA_CPU device\"\n",
            ", name: \"/device:XLA_GPU:0\"\n",
            "device_type: \"XLA_GPU\"\n",
            "memory_limit: 17179869184\n",
            "locality {\n",
            "}\n",
            "incarnation: 4278621398200022420\n",
            "physical_device_desc: \"device: XLA_GPU device\"\n",
            ", name: \"/device:GPU:0\"\n",
            "device_type: \"GPU\"\n",
            "memory_limit: 13729834599\n",
            "locality {\n",
            "  bus_id: 1\n",
            "  links {\n",
            "  }\n",
            "}\n",
            "incarnation: 15072248949832996604\n",
            "physical_device_desc: \"device: 0, name: Tesla T4, pci bus id: 0000:00:04.0, compute capability: 7.5\"\n",
            "]\n"
          ],
          "name": "stdout"
        }
      ]
    },
    {
      "cell_type": "code",
      "metadata": {
        "id": "6DvaL3SqDs7z",
        "colab_type": "code",
        "colab": {}
      },
      "source": [
        "class myCNN():\n",
        "  def __init__(self):\n",
        "    self.model = Sequential()\n",
        "    self.model.add(layers.Conv2D(32,(3,3),activation='relu',input_shape=(150,150,3)))\n",
        "    self.model.add(layers.MaxPooling2D(2))\n",
        "    self.model.add(layers.Conv2D(64,(3,3),activation='relu'))\n",
        "    self.model.add(layers.MaxPooling2D(2))\n",
        "    self.model.add(layers.Conv2D(32,(3,3),activation='relu'))\n",
        "    self.model.add(layers.MaxPooling2D(2))\n",
        "    self.model.add(layers.Conv2D(16,(3,3),activation='relu'))\n",
        "    self.model.add(layers.MaxPooling2D(2))\n",
        "    self.model.add(layers.Flatten())\n",
        "    self.model.add(layers.Dense(10,activation='relu'))\n",
        "    self.model.add(layers.Dense(1,activation='sigmoid'))\n",
        "    self.model.summary()\n",
        "  \n",
        "  def fit(self,train_image,train_label):\n",
        "    self.model.compile(optimizer='adam',metrics=['acc'],loss='binary_crossentropy')\n",
        "    self.model.fit(train_image,train_label,epochs=20)\n",
        "  \n",
        "  def evaluate(self,test_image,test_label):\n",
        "    test_loss, test_acc = self.model.evaluate(test_image, test_label)\n",
        "    #print(self.model.predict(test_image)[:100])\n",
        "    return test_loss,test_acc\n",
        "    "
      ],
      "execution_count": 0,
      "outputs": []
    },
    {
      "cell_type": "code",
      "metadata": {
        "id": "GQWKADlgFiJQ",
        "colab_type": "code",
        "colab": {
          "base_uri": "https://localhost:8080/",
          "height": 1312
        },
        "outputId": "25b75e9f-afed-45d0-921a-904d729e372b"
      },
      "source": [
        "my = myCNN()\n",
        "my.fit(train_image,train_label.T)"
      ],
      "execution_count": 13,
      "outputs": [
        {
          "output_type": "stream",
          "text": [
            "WARNING:tensorflow:From /usr/local/lib/python3.6/dist-packages/tensorflow/python/framework/op_def_library.py:263: colocate_with (from tensorflow.python.framework.ops) is deprecated and will be removed in a future version.\n",
            "Instructions for updating:\n",
            "Colocations handled automatically by placer.\n",
            "_________________________________________________________________\n",
            "Layer (type)                 Output Shape              Param #   \n",
            "=================================================================\n",
            "conv2d_1 (Conv2D)            (None, 148, 148, 32)      896       \n",
            "_________________________________________________________________\n",
            "max_pooling2d_1 (MaxPooling2 (None, 74, 74, 32)        0         \n",
            "_________________________________________________________________\n",
            "conv2d_2 (Conv2D)            (None, 72, 72, 64)        18496     \n",
            "_________________________________________________________________\n",
            "max_pooling2d_2 (MaxPooling2 (None, 36, 36, 64)        0         \n",
            "_________________________________________________________________\n",
            "conv2d_3 (Conv2D)            (None, 34, 34, 32)        18464     \n",
            "_________________________________________________________________\n",
            "max_pooling2d_3 (MaxPooling2 (None, 17, 17, 32)        0         \n",
            "_________________________________________________________________\n",
            "conv2d_4 (Conv2D)            (None, 15, 15, 16)        4624      \n",
            "_________________________________________________________________\n",
            "max_pooling2d_4 (MaxPooling2 (None, 7, 7, 16)          0         \n",
            "_________________________________________________________________\n",
            "flatten_1 (Flatten)          (None, 784)               0         \n",
            "_________________________________________________________________\n",
            "dense_1 (Dense)              (None, 10)                7850      \n",
            "_________________________________________________________________\n",
            "dense_2 (Dense)              (None, 1)                 11        \n",
            "=================================================================\n",
            "Total params: 50,341\n",
            "Trainable params: 50,341\n",
            "Non-trainable params: 0\n",
            "_________________________________________________________________\n",
            "WARNING:tensorflow:From /usr/local/lib/python3.6/dist-packages/tensorflow/python/ops/math_ops.py:3066: to_int32 (from tensorflow.python.ops.math_ops) is deprecated and will be removed in a future version.\n",
            "Instructions for updating:\n",
            "Use tf.cast instead.\n",
            "Epoch 1/20\n",
            "2000/2000 [==============================] - 4s 2ms/step - loss: 0.6917 - acc: 0.5055\n",
            "Epoch 2/20\n",
            "2000/2000 [==============================] - 2s 1ms/step - loss: 0.6899 - acc: 0.5335\n",
            "Epoch 3/20\n",
            "2000/2000 [==============================] - 2s 1ms/step - loss: 0.6684 - acc: 0.5755\n",
            "Epoch 4/20\n",
            "2000/2000 [==============================] - 2s 1ms/step - loss: 0.6405 - acc: 0.6060\n",
            "Epoch 5/20\n",
            "2000/2000 [==============================] - 2s 992us/step - loss: 0.6204 - acc: 0.6460\n",
            "Epoch 6/20\n",
            "2000/2000 [==============================] - 2s 1ms/step - loss: 0.5894 - acc: 0.6905\n",
            "Epoch 7/20\n",
            "2000/2000 [==============================] - 2s 989us/step - loss: 0.5634 - acc: 0.7050\n",
            "Epoch 8/20\n",
            "2000/2000 [==============================] - 2s 1ms/step - loss: 0.5334 - acc: 0.7350\n",
            "Epoch 9/20\n",
            "2000/2000 [==============================] - 2s 1ms/step - loss: 0.5188 - acc: 0.7465\n",
            "Epoch 10/20\n",
            "2000/2000 [==============================] - 2s 1ms/step - loss: 0.4955 - acc: 0.7455\n",
            "Epoch 11/20\n",
            "2000/2000 [==============================] - 2s 999us/step - loss: 0.4463 - acc: 0.7925\n",
            "Epoch 12/20\n",
            "2000/2000 [==============================] - 2s 1ms/step - loss: 0.4275 - acc: 0.7965\n",
            "Epoch 13/20\n",
            "2000/2000 [==============================] - 2s 1ms/step - loss: 0.4187 - acc: 0.7990\n",
            "Epoch 14/20\n",
            "2000/2000 [==============================] - 2s 1ms/step - loss: 0.3835 - acc: 0.8270\n",
            "Epoch 15/20\n",
            "2000/2000 [==============================] - 2s 1ms/step - loss: 0.3373 - acc: 0.8490\n",
            "Epoch 16/20\n",
            "2000/2000 [==============================] - 2s 1ms/step - loss: 0.3174 - acc: 0.8505\n",
            "Epoch 17/20\n",
            "2000/2000 [==============================] - 2s 1ms/step - loss: 0.3026 - acc: 0.8715\n",
            "Epoch 18/20\n",
            "2000/2000 [==============================] - 2s 1ms/step - loss: 0.2572 - acc: 0.8955\n",
            "Epoch 19/20\n",
            "2000/2000 [==============================] - 2s 1ms/step - loss: 0.2294 - acc: 0.9035\n",
            "Epoch 20/20\n",
            "2000/2000 [==============================] - 2s 1ms/step - loss: 0.2301 - acc: 0.9030\n"
          ],
          "name": "stdout"
        }
      ]
    },
    {
      "cell_type": "code",
      "metadata": {
        "id": "wF6zBadHFk7A",
        "colab_type": "code",
        "colab": {
          "base_uri": "https://localhost:8080/",
          "height": 51
        },
        "outputId": "2bd4a883-9c50-4e7f-f8b9-8266e829dea8"
      },
      "source": [
        "test_loss, test_acc = my.evaluate(validate_data, validate_label.T)\n",
        "print(\"LOSS : {} and ACCURACY : {}\".format(test_loss,test_acc))\n"
      ],
      "execution_count": 14,
      "outputs": [
        {
          "output_type": "stream",
          "text": [
            "1000/1000 [==============================] - 1s 640us/step\n",
            "LOSS : 0.7103570365905761 and ACCURACY : 0.714\n"
          ],
          "name": "stdout"
        }
      ]
    },
    {
      "cell_type": "code",
      "metadata": {
        "id": "LYVZyVLfTQES",
        "colab_type": "code",
        "colab": {}
      },
      "source": [
        ""
      ],
      "execution_count": 0,
      "outputs": []
    }
  ]
}